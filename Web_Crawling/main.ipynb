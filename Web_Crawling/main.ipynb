{
 "cells": [
  {
   "cell_type": "code",
   "execution_count": 4,
   "metadata": {},
   "outputs": [],
   "source": [
    "import requests as r"
   ]
  },
  {
   "cell_type": "code",
   "execution_count": 13,
   "metadata": {},
   "outputs": [
    {
     "name": "stdout",
     "output_type": "stream",
     "text": [
      "200\n",
      "\n",
      "<!DOCTYPE HTML PUBLIC \"-//W3C//DTD HTML 4.01 Transitional//EN\" \"http://www.w3.org/TR/html4/loose.dtd\">\n",
      "<html>\n",
      "<head>\n",
      "<meta http-equiv=\"Content-Type\" content=\"text/html; charset=euc-kr\">\n",
      "<title>네이버 :: 세상의 모든 지식, 네이버</title>\n",
      "\n",
      "<style type=\"text/css\">\n",
      ".error_content * {margin:0;padding:0;}\n",
      ".error_content img{border:none;}\n",
      ".error_content em {font-style:normal;}\n",
      ".error_content {width:410px; margin:80px auto 0; padding:57px 0 0 0; font-size:12px; font-family:\"나눔고딕\", \"NanumGothic\", \"돋움\", Dotum, AppleGothic, Sans-serif; text-align:left; line-height:14px; background:url(https://ssl.pstatic.net/static/common/error/090610/bg_thumb.gif) no-repeat center top; white-space:nowrap;}\n",
      ".error_content p{margin:0;}\n",
      ".error_content .error_desc {margin-bottom:21px; overflow:hidden; text-align:center;}\n",
      ".error_content .error_desc2 {margin-bottom:11px; padding-bottom:7px; color:#888; line-height:18px; border-bottom:1px solid #eee;}\n",
      ".error_content .error_desc3 {clear:both; color:#888;}\n",
      ".error_content .error_desc3 a {color:#004790; text-decoration:underline;}\n",
      ".error_content .error_list_type {clear:both; float:left; width:410px; _width:428px; margin:0 0 18px 0; *margin:0 0 7px 0; padding-bottom:13px; font-size:13px; color:#000; line-height:18px; border-bottom:1px solid #eee;}\n",
      ".error_content .error_list_type dt {float:left; width:60px; _width /**/:70px; padding-left:10px; background:url(https://ssl.pstatic.net/static/common/error/090610/bg_dot.gif) no-repeat 2px 8px;}\n",
      ".error_content .error_list_type dd {float:left; width:336px; _width /**/:340px; padding:0 0 0 4px;}\n",
      ".error_content .error_list_type dd span {color:#339900; letter-spacing:0;}\n",
      ".error_content .error_list_type dd a{color:#339900;}\n",
      ".error_content p.btn{margin:29px 0 100px; text-align:center;}\n",
      "</style>\n",
      "</head>\n",
      "<!-- ERROR -->\n",
      "<body>\n",
      "<div class=\"error_content\">\n",
      "\t<p class=\"error_desc\"><img src=\"https://ssl.pstatic.net/static/common/error/090610/txt_desc5.gif\" width=\"319\" height=\"30\" alt=\"페이지를 찾을 수 없습니다.\"></p>\n",
      "\t<p class=\"error_desc2\">방문하시려는 페이지의 주소가 잘못 입력되었거나,<br>\n",
      "\t\t페이지의 주소가 변경 혹은 삭제되어 요청하신 페이지를 찾을 수 없습니다.<br>\n",
      "\t\t입력하신 주소가 정확한지 다시 한번 확인해 주시기 바랍니다.\n",
      "\t</p>\n",
      "\t<p class=\"error_desc3\">관련 문의사항은 <a href=\"https://help.naver.com/\" target=\"_blank\">고객센터</a>에 알려주시면 친절히 안내해드리겠습니다. 감사합니다.</p>\n",
      "\t<p class=\"btn\">\n",
      "\t\t<a href=\"javascript:history.back()\"><img src=\"https://ssl.pstatic.net/static/common/error/090610/btn_prevpage.gif\" width=\"115\" height=\"35\" alt=\"이전 페이지로\"></a>\n",
      "\t\t<a href=\"https://finance.naver.com\"><img src=\"https://ssl.pstatic.net/static/nfinance/btn_home.gif\" width=\"115\" height=\"35\" alt=\"증권홈으로\"></a>\n",
      "\t</p>\n",
      "</div>\n",
      "</body>\n",
      "</html>\n",
      "\n"
     ]
    }
   ],
   "source": [
    "url = \"https://finance.naver.com/item/board.nhn?code=035420\"\n",
    "response = r.get(url)\n",
    "\n",
    "print(response.status_code)\n",
    "\n",
    "print(response.text)"
   ]
  },
  {
   "cell_type": "code",
   "execution_count": 6,
   "metadata": {},
   "outputs": [],
   "source": [
    "from bs4 import BeautifulSoup"
   ]
  },
  {
   "cell_type": "code",
   "execution_count": 16,
   "metadata": {},
   "outputs": [
    {
     "name": "stdout",
     "output_type": "stream",
     "text": [
      "<a class=\"_nclicks:kin.txt _searchListTitleAnchor\" href=\"https://kin.naver.com/qna/detail.naver?d1id=1&amp;dirId=10402&amp;docId=469201467&amp;qb=7YyM7J207I2s&amp;enc=utf8§ion=kin.qna_ency&amp;rank=1&amp;search_sort=0&amp;spq=0\" target=\"_blank\"><b>파이썬</b> 질문</a>\n"
     ]
    }
   ],
   "source": [
    "import requests\n",
    "from bs4 import BeautifulSoup\n",
    "\n",
    "url = 'https://kin.naver.com/search/list.nhn?query=%ED%8C%8C%EC%9D%B4%EC%8D%AC'\n",
    "\n",
    "response = requests.get(url)\n",
    "\n",
    "if response.status_code == 200:\n",
    "    html = response.text\n",
    "    soup = BeautifulSoup(html, 'html.parser')\n",
    "    title = soup.select_one('#s_content > div.section > ul > li:nth-child(1) > dl > dt > a')\n",
    "    print(title)\n",
    "else : \n",
    "    print(response.status_code)\n"
   ]
  }
 ],
 "metadata": {
  "kernelspec": {
   "display_name": ".venv",
   "language": "python",
   "name": "python3"
  },
  "language_info": {
   "codemirror_mode": {
    "name": "ipython",
    "version": 3
   },
   "file_extension": ".py",
   "mimetype": "text/x-python",
   "name": "python",
   "nbconvert_exporter": "python",
   "pygments_lexer": "ipython3",
   "version": "3.12.3"
  }
 },
 "nbformat": 4,
 "nbformat_minor": 2
}
